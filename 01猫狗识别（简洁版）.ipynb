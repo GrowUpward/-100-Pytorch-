{
  "nbformat": 4,
  "nbformat_minor": 0,
  "metadata": {
    "colab": {
      "provenance": []
    },
    "kernelspec": {
      "name": "python3",
      "display_name": "Python 3"
    },
    "language_info": {
      "name": "python"
    }
  },
  "cells": [
    {
      "cell_type": "markdown",
      "source": [
        "**提供资料：**\n",
        "数据所在路径：/content/drive/MyDrive/深度学习100例/Pytorch版/01cat-dog.zip\n",
        "\n",
        "步骤：数据处理-搭建模型-设置损失函数和优化器-模型训练-模型评估"
      ],
      "metadata": {
        "id": "GWqWInJCO9GD"
      }
    },
    {
      "cell_type": "code",
      "execution_count": null,
      "metadata": {
        "collapsed": true,
        "id": "IIsnjWldOwnS"
      },
      "outputs": [],
      "source": [
        "!unzip '/content/drive/MyDrive/深度学习100例/Pytorch版/01cat-dog.zip'"
      ]
    },
    {
      "cell_type": "markdown",
      "source": [
        "## 1.数据预处理\n",
        "\n",
        "步骤：\n",
        "\n",
        "**处理数据-读取数据-包装数据**\n",
        "\n",
        "1.  transforms.compose\n",
        "2.  datasets.ImageFolder\n",
        "3.  torch.utils.data.DataLoader"
      ],
      "metadata": {
        "id": "oT_9BK4kQuAo"
      }
    },
    {
      "cell_type": "code",
      "source": [
        "train_dir='/content/1-cat-dog/train'\n",
        "test_dir='/content/1-cat-dog/val'"
      ],
      "metadata": {
        "id": "yfRlvm8XPlX_"
      },
      "execution_count": 2,
      "outputs": []
    },
    {
      "cell_type": "code",
      "source": [
        "import torch\n",
        "from torch import nn\n",
        "import torchvision.transforms as transforms"
      ],
      "metadata": {
        "id": "2PlL6Er4Rpg4"
      },
      "execution_count": 3,
      "outputs": []
    },
    {
      "cell_type": "code",
      "source": [
        "train_transforms=transforms.Compose([\n",
        "    transforms.Resize([224,224]),\n",
        "    transforms.ToTensor(),\n",
        "    transforms.Normalize(\n",
        "        mean=[0.485,0.456,0.406],\n",
        "        std=[0.229,0.224,0.225]\n",
        "    )\n",
        "])\n",
        "test_transforms=transforms.Compose([\n",
        "    transforms.Resize([224,224]),\n",
        "    transforms.ToTensor(),\n",
        "    transforms.Normalize(\n",
        "        mean=[0.485,0.456,0.406],\n",
        "        std=[0.229,0.224,0.225]\n",
        "    )\n",
        "])"
      ],
      "metadata": {
        "id": "nsMcVuhLRcQ8"
      },
      "execution_count": 4,
      "outputs": []
    },
    {
      "cell_type": "code",
      "source": [
        "from torchvision import datasets"
      ],
      "metadata": {
        "id": "vHgCPJ-vXFXQ"
      },
      "execution_count": 5,
      "outputs": []
    },
    {
      "cell_type": "code",
      "source": [
        "train_data=datasets.ImageFolder(root=train_dir,transform=train_transforms)\n",
        "test_data=datasets.ImageFolder(root=test_dir,transform=test_transforms)"
      ],
      "metadata": {
        "id": "6nV5fkc5WvVi"
      },
      "execution_count": 6,
      "outputs": []
    },
    {
      "cell_type": "code",
      "source": [
        "from torch.utils.data import DataLoader"
      ],
      "metadata": {
        "id": "o-FJjB7kYFmK"
      },
      "execution_count": 7,
      "outputs": []
    },
    {
      "cell_type": "code",
      "source": [
        "train_loader=DataLoader(train_data,batch_size=4,shuffle=True,num_workers=1)\n",
        "test_loader=DataLoader(test_data,batch_size=4,shuffle=True,num_workers=1)"
      ],
      "metadata": {
        "id": "gggxOs9uXpcP"
      },
      "execution_count": 8,
      "outputs": []
    },
    {
      "cell_type": "markdown",
      "source": [
        "## 2.定义网络模型\n",
        "\n",
        "![LeNet structure](https://www.datasciencecentral.com/wp-content/uploads/2021/10/1gNzz6vvWmF6tDN6pTRTd9g.jpeg)"
      ],
      "metadata": {
        "id": "g9gtCFEpDOPD"
      }
    },
    {
      "cell_type": "code",
      "source": [
        "import torch.nn.functional  as F"
      ],
      "metadata": {
        "id": "e67UW1zRYwiJ"
      },
      "execution_count": 9,
      "outputs": []
    },
    {
      "cell_type": "code",
      "source": [
        "device=\"cuda\" if torch.cuda.is_available() else \"cpu\""
      ],
      "metadata": {
        "id": "qCA0m0xkDZoC"
      },
      "execution_count": 10,
      "outputs": []
    },
    {
      "cell_type": "code",
      "source": [
        "print(\"Using %s device\"%device)"
      ],
      "metadata": {
        "colab": {
          "base_uri": "https://localhost:8080/"
        },
        "id": "Dk8P8XXjFsmD",
        "outputId": "9a93fd0d-7bed-424f-c80b-bf4610710d5b"
      },
      "execution_count": 11,
      "outputs": [
        {
          "output_type": "stream",
          "name": "stdout",
          "text": [
            "Using cpu device\n"
          ]
        }
      ]
    },
    {
      "cell_type": "code",
      "source": [
        "class LeNet(nn.Module):\n",
        "  def __init__(self):\n",
        "    super(LeNet,self).__init__()\n",
        "    self.conv1=nn.Conv2d(3,6,5)\n",
        "    self.pool=nn.MaxPool2d(2,2)\n",
        "    self.conv2=nn.Conv2d(6,16,5)\n",
        "    self.fc1=nn.Linear(16*53*53,120)\n",
        "    self.fc2=nn.Linear(120,84)\n",
        "    self.fc3=nn.Linear(84,2)\n",
        "\n",
        "  def forward(self,x):\n",
        "    x=F.relu(self.conv1(x))\n",
        "    x=self.pool(x)\n",
        "    x=F.relu(self.conv2(x))\n",
        "    x=self.pool(x)\n",
        "\n",
        "    x=x.view(-1,16*53*53)\n",
        "\n",
        "    x=F.relu(self.fc1(x))\n",
        "    x=F.relu(self.fc2(x))\n",
        "    x=self.fc3(x)\n",
        "    return x\n",
        "\n",
        "model=LeNet().to(device)\n",
        "print(model)\n",
        "\n"
      ],
      "metadata": {
        "colab": {
          "base_uri": "https://localhost:8080/"
        },
        "id": "6qCmeEm8FzvN",
        "outputId": "bbc80136-fd78-47b0-80c7-97779977256f"
      },
      "execution_count": 12,
      "outputs": [
        {
          "output_type": "stream",
          "name": "stdout",
          "text": [
            "LeNet(\n",
            "  (conv1): Conv2d(3, 6, kernel_size=(5, 5), stride=(1, 1))\n",
            "  (pool): MaxPool2d(kernel_size=2, stride=2, padding=0, dilation=1, ceil_mode=False)\n",
            "  (conv2): Conv2d(6, 16, kernel_size=(5, 5), stride=(1, 1))\n",
            "  (fc1): Linear(in_features=44944, out_features=120, bias=True)\n",
            "  (fc2): Linear(in_features=120, out_features=84, bias=True)\n",
            "  (fc3): Linear(in_features=84, out_features=2, bias=True)\n",
            ")\n"
          ]
        }
      ]
    },
    {
      "cell_type": "markdown",
      "source": [
        "# 3.定义损失函数和优化器"
      ],
      "metadata": {
        "id": "EIozkXGTLRe6"
      }
    },
    {
      "cell_type": "code",
      "source": [
        "loss_fn=nn.CrossEntropyLoss()\n",
        "optimizer=torch.optim.SGD(model.parameters(),lr=1e-3)"
      ],
      "metadata": {
        "id": "CKrdxFYoKvPB"
      },
      "execution_count": 13,
      "outputs": []
    },
    {
      "cell_type": "markdown",
      "source": [
        "# 4.定义训练函数\n",
        "\n",
        "训练函数需要哪些东西？\n",
        "\n",
        "数据:dataloader\n",
        "模型:model\n",
        "损失函数:loss_fn\n",
        "优化器:optimizer\n",
        "\n",
        "反向传播步骤：\n",
        "\n",
        "清空参数梯度-计算参数的梯度-更新参数梯度\n"
      ],
      "metadata": {
        "id": "yGDSVkEYLsYu"
      }
    },
    {
      "cell_type": "code",
      "source": [
        "def train(dataloader,model,loss_fn,optimizer):\n",
        "  size=len(dataloader.dataset)\n",
        "  model.train()\n",
        "  for batch,(X,y) in enumerate(dataloader):\n",
        "    X,y=X.to(device),y.to(device)\n",
        "\n",
        "    pred=model(X)\n",
        "    loss=loss_fn(pred,y)\n",
        "\n",
        "    optimizer.zero_grad()\n",
        "    loss.backward()\n",
        "    optimizer.step()\n",
        "\n",
        "    if batch %100 ==0:\n",
        "      loss,current=loss.item(),batch*len(X)\n",
        "      print(f\"loss: {loss:>7f}  [{current:>5d}/{size:>5d}]\")"
      ],
      "metadata": {
        "id": "OlybHqc3LrXj"
      },
      "execution_count": 17,
      "outputs": []
    },
    {
      "cell_type": "markdown",
      "source": [
        "## 5.定义测试函数"
      ],
      "metadata": {
        "id": "IbKXGCy4LsI-"
      }
    },
    {
      "cell_type": "code",
      "source": [
        "def test(dataloader,model,loss_fn):\n",
        "    size=len(dataloader.dataset)\n",
        "    num_batches=len(dataloader)\n",
        "\n",
        "    model.eval()\n",
        "    correct,loss=0,0\n",
        "    with torch.no_grad():\n",
        "        for X,y in dataloader:\n",
        "            X,y=X.to(device),y.to(device)\n",
        "            pred=model(X)\n",
        "            loss+=loss_fn(pred,y).item()\n",
        "            correct+=(pred.argmax(1)==y).type(torch.float).sum().item()\n",
        "\n",
        "    loss/=num_batches\n",
        "    correct/=size\n",
        "    print(\"loss:{},accuracy:{}\".format(loss,correct))"
      ],
      "metadata": {
        "id": "PDRv-7ZERx4D"
      },
      "execution_count": 28,
      "outputs": []
    },
    {
      "cell_type": "markdown",
      "source": [
        "## 6.训练\n"
      ],
      "metadata": {
        "id": "kC2hZiQ9VH1e"
      }
    },
    {
      "cell_type": "code",
      "source": [
        "epochs=3\n",
        "for epoch in range(epochs):\n",
        "  print(f\"Epoch {epoch+1}\\n----------------------------\")\n",
        "  train(train_loader,model,loss_fn,optimizer)\n",
        "  test(test_loader,model,loss_fn)\n",
        "print(\"Done!\")\n"
      ],
      "metadata": {
        "colab": {
          "base_uri": "https://localhost:8080/"
        },
        "id": "steF14uhVFVa",
        "outputId": "30570184-d618-4885-ae8d-e83948e1cc24"
      },
      "execution_count": 29,
      "outputs": [
        {
          "output_type": "stream",
          "name": "stdout",
          "text": [
            "Epoch 1\n",
            "----------------------------\n",
            "loss: 0.479604  [    0/  480]\n",
            "loss: 0.270862  [  400/  480]\n",
            "loss:0.488195055971543,accuracy:0.7583333333333333\n",
            "Epoch 2\n",
            "----------------------------\n",
            "loss: 0.103656  [    0/  480]\n",
            "loss: 0.275150  [  400/  480]\n",
            "loss:0.4720036228497823,accuracy:0.75\n",
            "Epoch 3\n",
            "----------------------------\n",
            "loss: 0.174424  [    0/  480]\n",
            "loss: 0.097558  [  400/  480]\n",
            "loss:0.4528446896622578,accuracy:0.7416666666666667\n",
            "Done!\n"
          ]
        }
      ]
    },
    {
      "cell_type": "code",
      "source": [],
      "metadata": {
        "id": "wDEionuzVcmQ"
      },
      "execution_count": null,
      "outputs": []
    }
  ]
}